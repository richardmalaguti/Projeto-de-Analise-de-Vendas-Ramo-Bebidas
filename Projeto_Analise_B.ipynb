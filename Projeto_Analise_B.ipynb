{
 "cells": [
  {
   "cell_type": "code",
   "execution_count": 1,
   "id": "5144777c",
   "metadata": {},
   "outputs": [],
   "source": [
    "# Importando o pacote pandas.\n",
    "\n",
    "import pandas as pd"
   ]
  },
  {
   "cell_type": "code",
   "execution_count": 2,
   "id": "fc1898af-96b4-4b4c-b095-f33fbdaab5a6",
   "metadata": {},
   "outputs": [
    {
     "data": {
      "text/plain": [
       "'2.2.2'"
      ]
     },
     "execution_count": 2,
     "metadata": {},
     "output_type": "execute_result"
    }
   ],
   "source": [
    "# Verificando a versão do pandas.\n",
    "\n",
    "pd.__version__"
   ]
  },
  {
   "cell_type": "code",
   "execution_count": 3,
   "id": "298e8b4e",
   "metadata": {},
   "outputs": [],
   "source": [
    "# Importando minha base de dados para início das análises.\n",
    "\n",
    "df = pd.read_csv('conjunto_de_vendas.csv')"
   ]
  },
  {
   "cell_type": "code",
   "execution_count": 4,
   "id": "e9266006",
   "metadata": {
    "collapsed": true,
    "jupyter": {
     "outputs_hidden": true
    }
   },
   "outputs": [
    {
     "name": "stdout",
     "output_type": "stream",
     "text": [
      "  ID_Pedido ID_Cliente Tipo_Cliente             Produto    Categoria  \\\n",
      "0      ORD1    CUS1496          B2B          Vio Wasser        Water   \n",
      "1      ORD1    CUS1496          B2B               Evian        Water   \n",
      "2      ORD1    CUS1496          B2B              Sprite  Soft Drinks   \n",
      "3      ORD1    CUS1496          B2B  Rauch Multivitamin       Juices   \n",
      "4      ORD1    CUS1496          B2B        Gerolsteiner        Water   \n",
      "\n",
      "   Preco_Unitario  Quantidade  Desconto  Preco_Total             Regiao  \\\n",
      "0            1.66          53      0.10        79.18  Baden-Württemberg   \n",
      "1            1.56          90      0.10       126.36  Baden-Württemberg   \n",
      "2            1.17          73      0.05        81.14  Baden-Württemberg   \n",
      "3            3.22          59      0.10       170.98  Baden-Württemberg   \n",
      "4            0.87          35      0.10        27.40  Baden-Württemberg   \n",
      "\n",
      "  Data_Pedido  \n",
      "0  2023-08-23  \n",
      "1  2023-08-23  \n",
      "2  2023-08-23  \n",
      "3  2023-08-23  \n",
      "4  2023-08-23  \n"
     ]
    }
   ],
   "source": [
    "# Analisando as primeiras 5 linhas de cada coluna do conjunto de dados.\n",
    "\n",
    "print(df.head(5))"
   ]
  },
  {
   "cell_type": "code",
   "execution_count": 5,
   "id": "9d02e6fe",
   "metadata": {},
   "outputs": [
    {
     "name": "stdout",
     "output_type": "stream",
     "text": [
      "<class 'pandas.core.frame.DataFrame'>\n",
      "RangeIndex: 8999910 entries, 0 to 8999909\n",
      "Data columns (total 11 columns):\n",
      " #   Column          Dtype  \n",
      "---  ------          -----  \n",
      " 0   ID_Pedido       object \n",
      " 1   ID_Cliente      object \n",
      " 2   Tipo_Cliente    object \n",
      " 3   Produto         object \n",
      " 4   Categoria       object \n",
      " 5   Preco_Unitario  float64\n",
      " 6   Quantidade      int64  \n",
      " 7   Desconto        float64\n",
      " 8   Preco_Total     float64\n",
      " 9   Regiao          object \n",
      " 10  Data_Pedido     object \n",
      "dtypes: float64(3), int64(1), object(7)\n",
      "memory usage: 755.3+ MB\n",
      "None\n"
     ]
    }
   ],
   "source": [
    "# Analisando a classe do DataFrame, a quantidade de linhas, quantidade de colunas, o tipo de cada coluna,\n",
    "# e a quantidade de memória que está sendo usada.\n",
    "\n",
    "print(df.info())"
   ]
  },
  {
   "cell_type": "code",
   "execution_count": 6,
   "id": "f88fd2ac-da5e-4a82-8731-7b4c49d45c46",
   "metadata": {},
   "outputs": [
    {
     "name": "stdout",
     "output_type": "stream",
     "text": [
      "(8999910, 11)\n"
     ]
    }
   ],
   "source": [
    "# Mostra a quantidade de linhas e de colunas.\n",
    "\n",
    "print(df.shape)"
   ]
  },
  {
   "cell_type": "code",
   "execution_count": 7,
   "id": "50f19451-1e35-40bb-b96d-e10bd61aa6c2",
   "metadata": {},
   "outputs": [
    {
     "name": "stdout",
     "output_type": "stream",
     "text": [
      "       Preco_Unitario    Quantidade      Desconto   Preco_Total\n",
      "count    8.999910e+06  8.999910e+06  8.999910e+06  8.999910e+06\n",
      "mean     5.818037e+00  2.313813e+01  2.972879e-02  1.307437e+02\n",
      "std      1.470050e+01  2.689321e+01  4.479841e-02  5.096947e+02\n",
      "min      3.200000e-01  1.000000e+00  0.000000e+00  3.000000e-01\n",
      "25%      1.050000e+00  6.000000e+00  0.000000e+00  8.400000e+00\n",
      "50%      1.750000e+00  1.100000e+01  0.000000e+00  2.114000e+01\n",
      "75%      3.210000e+00  3.000000e+01  5.000000e-02  6.949000e+01\n",
      "max      1.695300e+02  1.000000e+02  1.500000e-01  1.429530e+04\n"
     ]
    }
   ],
   "source": [
    "# Mostra algumas métricas como média, contagem, valor mínimo, valor máximo.\n",
    "\n",
    "print(df.describe())"
   ]
  },
  {
   "cell_type": "code",
   "execution_count": 8,
   "id": "1c9d408d",
   "metadata": {},
   "outputs": [
    {
     "name": "stdout",
     "output_type": "stream",
     "text": [
      "ID_Pedido         0\n",
      "ID_Cliente        0\n",
      "Tipo_Cliente      0\n",
      "Produto           0\n",
      "Categoria         0\n",
      "Preco_Unitario    0\n",
      "Quantidade        0\n",
      "Desconto          0\n",
      "Preco_Total       0\n",
      "Regiao            0\n",
      "Data_Pedido       0\n",
      "dtype: int64\n"
     ]
    }
   ],
   "source": [
    "# Análise para ver se há algum valor nulo nas colunas.\n",
    "\n",
    "print(df.isnull().sum())"
   ]
  },
  {
   "cell_type": "code",
   "execution_count": 9,
   "id": "76777545",
   "metadata": {},
   "outputs": [
    {
     "name": "stdout",
     "output_type": "stream",
     "text": [
      "0\n"
     ]
    }
   ],
   "source": [
    "# Análise para ver se há algum valor duplicado nas colunas.\n",
    "\n",
    "print(df.duplicated().sum())"
   ]
  },
  {
   "cell_type": "code",
   "execution_count": null,
   "id": "ff245651",
   "metadata": {},
   "outputs": [],
   "source": [
    "# Traduzindo o nome das colunas, para uma melhor compreensão.\n",
    "\n",
    "df = df.rename(columns = {'Customer_ID' : 'ID_Cliente', 'Customer_Type' : 'Tipo_Cliente', 'Product' : 'Produto',\n",
    "                         'Category' : 'Categoria', 'Unit_Price' : 'Preco_Unitario', 'Quantity' : 'Quantidade',\n",
    "                         'Discount' : 'Desconto', 'Total_Price' : 'Preco_Total', 'Region' : 'Regiao',\n",
    "                          'Order_Date' : 'Data_Pedido', 'Order_ID' : 'ID_Pedido'})"
   ]
  },
  {
   "cell_type": "code",
   "execution_count": null,
   "id": "ee80d5fd",
   "metadata": {},
   "outputs": [],
   "source": [
    "# Alterando tipo de algumas colunas.\n",
    "\n",
    "df['Produto'] = df['Produto'].apply(str)\n",
    "df['Categoria'] = df['Categoria'].apply(str)\n",
    "df['Regiao'] = df['Regiao'].apply(str)\n",
    "df['Data_Pedido'] = pd.to_datetime(df['Data_Pedido'])"
   ]
  },
  {
   "cell_type": "code",
   "execution_count": null,
   "id": "c0c9ace4-d19e-4041-92e3-fffd8566ee48",
   "metadata": {},
   "outputs": [],
   "source": [
    "print(df.info())"
   ]
  },
  {
   "cell_type": "code",
   "execution_count": null,
   "id": "6e2ffcaf",
   "metadata": {},
   "outputs": [],
   "source": [
    "# Salvando as alterações feitas.\n",
    "\n",
    "df.to_csv('conjunto_de_vendas.csv', index = False)"
   ]
  }
 ],
 "metadata": {
  "kernelspec": {
   "display_name": "Python 3 (ipykernel)",
   "language": "python",
   "name": "python3"
  },
  "language_info": {
   "codemirror_mode": {
    "name": "ipython",
    "version": 3
   },
   "file_extension": ".py",
   "mimetype": "text/x-python",
   "name": "python",
   "nbconvert_exporter": "python",
   "pygments_lexer": "ipython3",
   "version": "3.12.7"
  }
 },
 "nbformat": 4,
 "nbformat_minor": 5
}
